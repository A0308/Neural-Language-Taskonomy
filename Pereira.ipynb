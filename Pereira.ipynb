{
 "cells": [
  {
   "cell_type": "code",
   "execution_count": 1,
   "metadata": {},
   "outputs": [
    {
     "name": "stderr",
     "output_type": "stream",
     "text": [
      "c:\\users\\test\\anaconda3\\lib\\site-packages\\numpy\\_distributor_init.py:32: UserWarning: loaded more than 1 DLL from .libs:\n",
      "c:\\users\\test\\anaconda3\\lib\\site-packages\\numpy\\.libs\\libopenblas.GK7GX5KEQ4F6UYO3P26ULGBQYHGQO7J4.gfortran-win_amd64.dll\n",
      "c:\\users\\test\\anaconda3\\lib\\site-packages\\numpy\\.libs\\libopenblas.TXA6YQSD3GCQQC22GEQ54J2UDCXDXHWN.gfortran-win_amd64.dll\n",
      "  stacklevel=1)\n"
     ]
    }
   ],
   "source": [
    "import numpy as np\n",
    "from scipy.io import loadmat\n",
    "from sklearn.model_selection import KFold\n",
    "from sklearn.model_selection import train_test_split\n",
    "from sklearn.linear_model import Ridge\n",
    "from scipy.stats import pearsonr\n",
    "from scipy import spatial\n",
    "from sklearn.metrics import auc, r2_score, roc_auc_score"
   ]
  },
  {
   "cell_type": "code",
   "execution_count": 2,
   "metadata": {},
   "outputs": [],
   "source": [
    "def pairwise_accuracy(actual, predicted):\n",
    "    true = 0\n",
    "    total = 0\n",
    "    for i in range(0,len(actual)):\n",
    "#         print(i)\n",
    "        for j in range(i+1, len(actual)):\n",
    "            total += 1\n",
    "\n",
    "            s1 = actual[i]\n",
    "            s2 = actual[j]\n",
    "            b1 = predicted[i]\n",
    "            b2 = predicted[j]\n",
    "\n",
    "            result1 = spatial.distance.cosine(s1, b1)\n",
    "            result2 = spatial.distance.cosine(s2, b2)\n",
    "            result3 = spatial.distance.cosine(s1, b2)\n",
    "            result4 = spatial.distance.cosine(s2, b1)\n",
    "\n",
    "            if(result1 + result2 < result3 + result4):\n",
    "                true += 1\n",
    "\n",
    "    return(true/total)"
   ]
  },
  {
   "cell_type": "code",
   "execution_count": 3,
   "metadata": {},
   "outputs": [],
   "source": [
    "def pearcorr(actual, predicted):\n",
    "    corr = []\n",
    "    for i in range(0, len(actual)):\n",
    "        corr.append(np.corrcoef(actual[i],predicted[i])[0][1])\n",
    "    #np.save('correlations/'+str(i)+'.npy', corr)\n",
    "    return np.mean(corr)"
   ]
  },
  {
   "cell_type": "code",
   "execution_count": 4,
   "metadata": {},
   "outputs": [],
   "source": [
    "kf = KFold(n_splits=10, shuffle=True)"
   ]
  },
  {
   "cell_type": "code",
   "execution_count": 5,
   "metadata": {},
   "outputs": [],
   "source": [
    "def train(vectors, voxels):\n",
    "    \n",
    "    dataset_X = np.array(voxels.copy())\n",
    "    \n",
    "    dataset_Y = np.array(vectors.copy())\n",
    "\n",
    "#     accuracies = []\n",
    "#     accuracies01 = []\n",
    "    \n",
    "    actual = []\n",
    "    predicted = []\n",
    "    pairwise_2v2 = []\n",
    "    final_corr = []\n",
    "    rdm_acc = []\n",
    "    auc_acc = []\n",
    "    r2_acc = []\n",
    "    r2acc = []\n",
    "    #rdm_feat = []\n",
    "\n",
    "    cnt = 0\n",
    "    for train_index, test_index in kf.split(dataset_X):\n",
    "\n",
    "        X_train, X_test = dataset_X[train_index], dataset_X[test_index]\n",
    "        y_train, y_test = dataset_Y[train_index], dataset_Y[test_index]\n",
    "           \n",
    "        model = Ridge(alpha=1.0)\n",
    "        model.fit(X_train,y_train)\n",
    "        \n",
    "        \n",
    "\n",
    "        y_pred = model.predict(X_test)\n",
    "#         acc = pairwise_accuracy(y_test,y_pred)\n",
    "#         accuracies.append(acc)\n",
    "        \n",
    "#         acc01 = rank_accuracy(y_test,y_pred)\n",
    "#         accuracies01.append(acc01)\n",
    "        \n",
    "        pairwise_2v2.append(pairwise_accuracy(y_test,y_pred))\n",
    "        final_corr.append(pearcorr(y_test,y_pred))\n",
    "        cnt += 1\n",
    "    return np.mean(pairwise_2v2), np.mean(final_corr)"
   ]
  },
  {
   "cell_type": "code",
   "execution_count": 6,
   "metadata": {},
   "outputs": [],
   "source": [
    "img_feat = np.load('pereira_paraphrase.npy')"
   ]
  },
  {
   "cell_type": "code",
   "execution_count": 9,
   "metadata": {},
   "outputs": [],
   "source": [
    "def generate_indices(data):\n",
    "    Taskindices = []\n",
    "    for j in data['meta'][0][0][11][0][5]:\n",
    "        for k in j[0]:\n",
    "            #print(k)\n",
    "            Taskindices.append(int(k))\n",
    "    #print(len(Taskindices))\n",
    "    DMNindices = []\n",
    "    for j in data['meta'][0][0][11][0][6]:\n",
    "        for k in j[0]:\n",
    "            #print(k)\n",
    "            DMNindices.append(int(k))\n",
    "    #print(len(DMNindices))\n",
    "    Visualindices = []\n",
    "    Visualindices_body = []\n",
    "    Visualindices_face = []\n",
    "    Visualindices_object = []\n",
    "    Visualindices_scene = []\n",
    "    for j in data['meta'][0][0][11][0][9]:\n",
    "        for k in j[0]:\n",
    "            #print(k)\n",
    "            Visualindices_body.append(int(k))\n",
    "    for j in data['meta'][0][0][11][0][10]:\n",
    "        for k in j[0]:\n",
    "            #print(k)\n",
    "            Visualindices_face.append(int(k))\n",
    "    for j in data['meta'][0][0][11][0][11]:\n",
    "        for k in j[0]:\n",
    "            #print(k)\n",
    "            Visualindices_object.append(int(k))\n",
    "    for j in data['meta'][0][0][11][0][12]:\n",
    "        for k in j[0]:\n",
    "            #print(k)\n",
    "            Visualindices_scene.append(int(k))\n",
    "    \n",
    "    for j in data['meta'][0][0][11][0][13]:\n",
    "        for k in j[0]:\n",
    "            #print(k)\n",
    "            Visualindices.append(int(k))\n",
    "    #print(len(Visualindices))\n",
    "    Languageindices_lh = []\n",
    "    Languageindices_rh = []\n",
    "    for j in data['meta'][0][0][11][0][7]:\n",
    "        for k in j[0]:\n",
    "            #print(k)\n",
    "            Languageindices_lh.append(int(k))\n",
    "    for j in data['meta'][0][0][11][0][8]:\n",
    "        for k in j[0]:\n",
    "            #print(k)\n",
    "            Languageindices_rh.append(int(k))\n",
    "        #Languageindices.append(int(j))\n",
    "    #print(len(Languageindices))\n",
    "    return Taskindices, DMNindices, Visualindices_body, Visualindices_face, Visualindices_object,Visualindices_scene, Visualindices, Languageindices_lh, Languageindices_rh"
   ]
  },
  {
   "cell_type": "code",
   "execution_count": 10,
   "metadata": {},
   "outputs": [],
   "source": [
    "ROIS = ['language_lh', 'language_rh', 'vision_body', 'vision_face', 'vision_object',\n",
    "        'vision_scene','vision', 'dmn', \n",
    "        'task']"
   ]
  },
  {
   "cell_type": "code",
   "execution_count": 11,
   "metadata": {},
   "outputs": [],
   "source": [
    "def get_subject_data(subject):\n",
    "    data_pic = loadmat('../Periera_Dataset/'+subject+'/data_384sentences.mat')\n",
    "    data_pic1 = loadmat('../Periera_Dataset/'+subject+'/data_243sentences.mat')\n",
    "    Taskindices, DMNindices, Visualindices_body, Visualindices_face, Visualindices_object,Visualindices_scene, Visualindices, Languageindices_lh, Languageindices_rh = generate_indices(data_pic)\n",
    "    Taskindices1, DMNindices1, Visualindices_body1, Visualindices_face1, Visualindices_object1,Visualindices_scene1, Visualindices1, Languageindices_lh1, Languageindices_rh1 = generate_indices(data_pic1)\n",
    "    roi_indices = {'language_lh':Languageindices_lh, 'language_rh':Languageindices_rh, \n",
    "        'vision_body': Visualindices_body, 'vision_face':Visualindices_face, \n",
    "        'vision_object': Visualindices_object, 'vision_scene': Visualindices_scene,\n",
    "        'vision': Visualindices,  'dmn': DMNindices, 'task': Taskindices}\n",
    "    \n",
    "    roi_indices1 = {'language_lh':Languageindices_lh1, 'language_rh':Languageindices_rh1, \n",
    "        'vision_body': Visualindices_body1, 'vision_face':Visualindices_face1, \n",
    "        'vision_object': Visualindices_object1, 'vision_scene': Visualindices_scene1,\n",
    "        'vision': Visualindices1,  'dmn': DMNindices1, 'task': Taskindices1}\n",
    "    \n",
    "    fmri = {}\n",
    "    for roi,indices in roi_indices.items():\n",
    "        a = data_pic['examples_passagesentences'][0:,np.array(indices)-1]\n",
    "        b = data_pic1['examples_passagesentences'][0:,np.array(roi_indices1[roi])-1]\n",
    "        #print(np.concatenate([a,b], axis=0).shape)\n",
    "        fmri[roi] = np.concatenate([a,b], axis=0)\n",
    "    \n",
    "    \n",
    "#     data = np.load('../data/features/periera/resnet_feat.npy',allow_pickle=True)\n",
    "#     d = dict(enumerate(data.flatten(), 1))[1]\n",
    "        \n",
    "    return fmri"
   ]
  },
  {
   "cell_type": "code",
   "execution_count": 12,
   "metadata": {},
   "outputs": [],
   "source": [
    "subjects = ['P01', 'M02','M04','M07', 'M15']"
   ]
  },
  {
   "cell_type": "code",
   "execution_count": 13,
   "metadata": {},
   "outputs": [
    {
     "name": "stderr",
     "output_type": "stream",
     "text": [
      "c:\\users\\test\\anaconda3\\lib\\site-packages\\scipy\\io\\matlab\\mio.py:226: MatReadWarning: Duplicate variable name \"None\" in stream - replacing previous with new\n",
      "Consider mio5.varmats_from_mat to split file into single variable files\n",
      "  matfile_dict = MR.get_variables(variable_names)\n",
      "c:\\users\\test\\anaconda3\\lib\\site-packages\\scipy\\io\\matlab\\mio.py:226: MatReadWarning: Duplicate variable name \"None\" in stream - replacing previous with new\n",
      "Consider mio5.varmats_from_mat to split file into single variable files\n",
      "  matfile_dict = MR.get_variables(variable_names)\n",
      "c:\\users\\test\\anaconda3\\lib\\site-packages\\scipy\\io\\matlab\\mio.py:226: MatReadWarning: Duplicate variable name \"None\" in stream - replacing previous with new\n",
      "Consider mio5.varmats_from_mat to split file into single variable files\n",
      "  matfile_dict = MR.get_variables(variable_names)\n",
      "c:\\users\\test\\anaconda3\\lib\\site-packages\\scipy\\io\\matlab\\mio.py:226: MatReadWarning: Duplicate variable name \"None\" in stream - replacing previous with new\n",
      "Consider mio5.varmats_from_mat to split file into single variable files\n",
      "  matfile_dict = MR.get_variables(variable_names)\n",
      "c:\\users\\test\\anaconda3\\lib\\site-packages\\scipy\\io\\matlab\\mio.py:226: MatReadWarning: Duplicate variable name \"None\" in stream - replacing previous with new\n",
      "Consider mio5.varmats_from_mat to split file into single variable files\n",
      "  matfile_dict = MR.get_variables(variable_names)\n"
     ]
    },
    {
     "name": "stdout",
     "output_type": "stream",
     "text": [
      "0.6025248540706606 0.5700095089710672\n"
     ]
    },
    {
     "name": "stderr",
     "output_type": "stream",
     "text": [
      "c:\\users\\test\\anaconda3\\lib\\site-packages\\scipy\\io\\matlab\\mio.py:226: MatReadWarning: Duplicate variable name \"None\" in stream - replacing previous with new\n",
      "Consider mio5.varmats_from_mat to split file into single variable files\n",
      "  matfile_dict = MR.get_variables(variable_names)\n",
      "c:\\users\\test\\anaconda3\\lib\\site-packages\\scipy\\io\\matlab\\mio.py:226: MatReadWarning: Duplicate variable name \"None\" in stream - replacing previous with new\n",
      "Consider mio5.varmats_from_mat to split file into single variable files\n",
      "  matfile_dict = MR.get_variables(variable_names)\n",
      "c:\\users\\test\\anaconda3\\lib\\site-packages\\scipy\\io\\matlab\\mio.py:226: MatReadWarning: Duplicate variable name \"None\" in stream - replacing previous with new\n",
      "Consider mio5.varmats_from_mat to split file into single variable files\n",
      "  matfile_dict = MR.get_variables(variable_names)\n",
      "c:\\users\\test\\anaconda3\\lib\\site-packages\\scipy\\io\\matlab\\mio.py:226: MatReadWarning: Duplicate variable name \"None\" in stream - replacing previous with new\n",
      "Consider mio5.varmats_from_mat to split file into single variable files\n",
      "  matfile_dict = MR.get_variables(variable_names)\n",
      "c:\\users\\test\\anaconda3\\lib\\site-packages\\scipy\\io\\matlab\\mio.py:226: MatReadWarning: Duplicate variable name \"None\" in stream - replacing previous with new\n",
      "Consider mio5.varmats_from_mat to split file into single variable files\n",
      "  matfile_dict = MR.get_variables(variable_names)\n"
     ]
    },
    {
     "name": "stdout",
     "output_type": "stream",
     "text": [
      "0.5613674961597542 0.32898261157397996\n"
     ]
    },
    {
     "name": "stderr",
     "output_type": "stream",
     "text": [
      "c:\\users\\test\\anaconda3\\lib\\site-packages\\scipy\\io\\matlab\\mio.py:226: MatReadWarning: Duplicate variable name \"None\" in stream - replacing previous with new\n",
      "Consider mio5.varmats_from_mat to split file into single variable files\n",
      "  matfile_dict = MR.get_variables(variable_names)\n",
      "c:\\users\\test\\anaconda3\\lib\\site-packages\\scipy\\io\\matlab\\mio.py:226: MatReadWarning: Duplicate variable name \"None\" in stream - replacing previous with new\n",
      "Consider mio5.varmats_from_mat to split file into single variable files\n",
      "  matfile_dict = MR.get_variables(variable_names)\n",
      "c:\\users\\test\\anaconda3\\lib\\site-packages\\scipy\\io\\matlab\\mio.py:226: MatReadWarning: Duplicate variable name \"None\" in stream - replacing previous with new\n",
      "Consider mio5.varmats_from_mat to split file into single variable files\n",
      "  matfile_dict = MR.get_variables(variable_names)\n",
      "c:\\users\\test\\anaconda3\\lib\\site-packages\\scipy\\io\\matlab\\mio.py:226: MatReadWarning: Duplicate variable name \"None\" in stream - replacing previous with new\n",
      "Consider mio5.varmats_from_mat to split file into single variable files\n",
      "  matfile_dict = MR.get_variables(variable_names)\n",
      "c:\\users\\test\\anaconda3\\lib\\site-packages\\scipy\\io\\matlab\\mio.py:226: MatReadWarning: Duplicate variable name \"None\" in stream - replacing previous with new\n",
      "Consider mio5.varmats_from_mat to split file into single variable files\n",
      "  matfile_dict = MR.get_variables(variable_names)\n"
     ]
    },
    {
     "name": "stdout",
     "output_type": "stream",
     "text": [
      "0.5967962314388121 0.5603422137392683\n"
     ]
    },
    {
     "name": "stderr",
     "output_type": "stream",
     "text": [
      "c:\\users\\test\\anaconda3\\lib\\site-packages\\scipy\\io\\matlab\\mio.py:226: MatReadWarning: Duplicate variable name \"None\" in stream - replacing previous with new\n",
      "Consider mio5.varmats_from_mat to split file into single variable files\n",
      "  matfile_dict = MR.get_variables(variable_names)\n",
      "c:\\users\\test\\anaconda3\\lib\\site-packages\\scipy\\io\\matlab\\mio.py:226: MatReadWarning: Duplicate variable name \"None\" in stream - replacing previous with new\n",
      "Consider mio5.varmats_from_mat to split file into single variable files\n",
      "  matfile_dict = MR.get_variables(variable_names)\n",
      "c:\\users\\test\\anaconda3\\lib\\site-packages\\scipy\\io\\matlab\\mio.py:226: MatReadWarning: Duplicate variable name \"None\" in stream - replacing previous with new\n",
      "Consider mio5.varmats_from_mat to split file into single variable files\n",
      "  matfile_dict = MR.get_variables(variable_names)\n",
      "c:\\users\\test\\anaconda3\\lib\\site-packages\\scipy\\io\\matlab\\mio.py:226: MatReadWarning: Duplicate variable name \"None\" in stream - replacing previous with new\n",
      "Consider mio5.varmats_from_mat to split file into single variable files\n",
      "  matfile_dict = MR.get_variables(variable_names)\n",
      "c:\\users\\test\\anaconda3\\lib\\site-packages\\scipy\\io\\matlab\\mio.py:226: MatReadWarning: Duplicate variable name \"None\" in stream - replacing previous with new\n",
      "Consider mio5.varmats_from_mat to split file into single variable files\n",
      "  matfile_dict = MR.get_variables(variable_names)\n"
     ]
    },
    {
     "name": "stdout",
     "output_type": "stream",
     "text": [
      "0.5639298719918074 0.5729090413625663\n"
     ]
    },
    {
     "name": "stderr",
     "output_type": "stream",
     "text": [
      "c:\\users\\test\\anaconda3\\lib\\site-packages\\scipy\\io\\matlab\\mio.py:226: MatReadWarning: Duplicate variable name \"None\" in stream - replacing previous with new\n",
      "Consider mio5.varmats_from_mat to split file into single variable files\n",
      "  matfile_dict = MR.get_variables(variable_names)\n",
      "c:\\users\\test\\anaconda3\\lib\\site-packages\\scipy\\io\\matlab\\mio.py:226: MatReadWarning: Duplicate variable name \"None\" in stream - replacing previous with new\n",
      "Consider mio5.varmats_from_mat to split file into single variable files\n",
      "  matfile_dict = MR.get_variables(variable_names)\n",
      "c:\\users\\test\\anaconda3\\lib\\site-packages\\scipy\\io\\matlab\\mio.py:226: MatReadWarning: Duplicate variable name \"None\" in stream - replacing previous with new\n",
      "Consider mio5.varmats_from_mat to split file into single variable files\n",
      "  matfile_dict = MR.get_variables(variable_names)\n",
      "c:\\users\\test\\anaconda3\\lib\\site-packages\\scipy\\io\\matlab\\mio.py:226: MatReadWarning: Duplicate variable name \"None\" in stream - replacing previous with new\n",
      "Consider mio5.varmats_from_mat to split file into single variable files\n",
      "  matfile_dict = MR.get_variables(variable_names)\n",
      "c:\\users\\test\\anaconda3\\lib\\site-packages\\scipy\\io\\matlab\\mio.py:226: MatReadWarning: Duplicate variable name \"None\" in stream - replacing previous with new\n",
      "Consider mio5.varmats_from_mat to split file into single variable files\n",
      "  matfile_dict = MR.get_variables(variable_names)\n"
     ]
    },
    {
     "name": "stdout",
     "output_type": "stream",
     "text": [
      "0.5790097695852534 0.5782026979058555\n"
     ]
    },
    {
     "name": "stderr",
     "output_type": "stream",
     "text": [
      "c:\\users\\test\\anaconda3\\lib\\site-packages\\scipy\\io\\matlab\\mio.py:226: MatReadWarning: Duplicate variable name \"None\" in stream - replacing previous with new\n",
      "Consider mio5.varmats_from_mat to split file into single variable files\n",
      "  matfile_dict = MR.get_variables(variable_names)\n",
      "c:\\users\\test\\anaconda3\\lib\\site-packages\\scipy\\io\\matlab\\mio.py:226: MatReadWarning: Duplicate variable name \"None\" in stream - replacing previous with new\n",
      "Consider mio5.varmats_from_mat to split file into single variable files\n",
      "  matfile_dict = MR.get_variables(variable_names)\n",
      "c:\\users\\test\\anaconda3\\lib\\site-packages\\scipy\\io\\matlab\\mio.py:226: MatReadWarning: Duplicate variable name \"None\" in stream - replacing previous with new\n",
      "Consider mio5.varmats_from_mat to split file into single variable files\n",
      "  matfile_dict = MR.get_variables(variable_names)\n",
      "c:\\users\\test\\anaconda3\\lib\\site-packages\\scipy\\io\\matlab\\mio.py:226: MatReadWarning: Duplicate variable name \"None\" in stream - replacing previous with new\n",
      "Consider mio5.varmats_from_mat to split file into single variable files\n",
      "  matfile_dict = MR.get_variables(variable_names)\n",
      "c:\\users\\test\\anaconda3\\lib\\site-packages\\scipy\\io\\matlab\\mio.py:226: MatReadWarning: Duplicate variable name \"None\" in stream - replacing previous with new\n",
      "Consider mio5.varmats_from_mat to split file into single variable files\n",
      "  matfile_dict = MR.get_variables(variable_names)\n"
     ]
    },
    {
     "name": "stdout",
     "output_type": "stream",
     "text": [
      "0.5386678955453148 0.26830963899189203\n"
     ]
    },
    {
     "name": "stderr",
     "output_type": "stream",
     "text": [
      "c:\\users\\test\\anaconda3\\lib\\site-packages\\scipy\\io\\matlab\\mio.py:226: MatReadWarning: Duplicate variable name \"None\" in stream - replacing previous with new\n",
      "Consider mio5.varmats_from_mat to split file into single variable files\n",
      "  matfile_dict = MR.get_variables(variable_names)\n",
      "c:\\users\\test\\anaconda3\\lib\\site-packages\\scipy\\io\\matlab\\mio.py:226: MatReadWarning: Duplicate variable name \"None\" in stream - replacing previous with new\n",
      "Consider mio5.varmats_from_mat to split file into single variable files\n",
      "  matfile_dict = MR.get_variables(variable_names)\n",
      "c:\\users\\test\\anaconda3\\lib\\site-packages\\scipy\\io\\matlab\\mio.py:226: MatReadWarning: Duplicate variable name \"None\" in stream - replacing previous with new\n",
      "Consider mio5.varmats_from_mat to split file into single variable files\n",
      "  matfile_dict = MR.get_variables(variable_names)\n",
      "c:\\users\\test\\anaconda3\\lib\\site-packages\\scipy\\io\\matlab\\mio.py:226: MatReadWarning: Duplicate variable name \"None\" in stream - replacing previous with new\n",
      "Consider mio5.varmats_from_mat to split file into single variable files\n",
      "  matfile_dict = MR.get_variables(variable_names)\n",
      "c:\\users\\test\\anaconda3\\lib\\site-packages\\scipy\\io\\matlab\\mio.py:226: MatReadWarning: Duplicate variable name \"None\" in stream - replacing previous with new\n",
      "Consider mio5.varmats_from_mat to split file into single variable files\n",
      "  matfile_dict = MR.get_variables(variable_names)\n"
     ]
    },
    {
     "name": "stdout",
     "output_type": "stream",
     "text": [
      "0.5831153712237583 0.5456053709683739\n"
     ]
    },
    {
     "name": "stderr",
     "output_type": "stream",
     "text": [
      "c:\\users\\test\\anaconda3\\lib\\site-packages\\scipy\\io\\matlab\\mio.py:226: MatReadWarning: Duplicate variable name \"None\" in stream - replacing previous with new\n",
      "Consider mio5.varmats_from_mat to split file into single variable files\n",
      "  matfile_dict = MR.get_variables(variable_names)\n",
      "c:\\users\\test\\anaconda3\\lib\\site-packages\\scipy\\io\\matlab\\mio.py:226: MatReadWarning: Duplicate variable name \"None\" in stream - replacing previous with new\n",
      "Consider mio5.varmats_from_mat to split file into single variable files\n",
      "  matfile_dict = MR.get_variables(variable_names)\n",
      "c:\\users\\test\\anaconda3\\lib\\site-packages\\scipy\\io\\matlab\\mio.py:226: MatReadWarning: Duplicate variable name \"None\" in stream - replacing previous with new\n",
      "Consider mio5.varmats_from_mat to split file into single variable files\n",
      "  matfile_dict = MR.get_variables(variable_names)\n",
      "c:\\users\\test\\anaconda3\\lib\\site-packages\\scipy\\io\\matlab\\mio.py:226: MatReadWarning: Duplicate variable name \"None\" in stream - replacing previous with new\n",
      "Consider mio5.varmats_from_mat to split file into single variable files\n",
      "  matfile_dict = MR.get_variables(variable_names)\n",
      "c:\\users\\test\\anaconda3\\lib\\site-packages\\scipy\\io\\matlab\\mio.py:226: MatReadWarning: Duplicate variable name \"None\" in stream - replacing previous with new\n",
      "Consider mio5.varmats_from_mat to split file into single variable files\n",
      "  matfile_dict = MR.get_variables(variable_names)\n"
     ]
    },
    {
     "name": "stdout",
     "output_type": "stream",
     "text": [
      "0.5518887455197132 0.30057756564116084\n"
     ]
    },
    {
     "name": "stderr",
     "output_type": "stream",
     "text": [
      "c:\\users\\test\\anaconda3\\lib\\site-packages\\scipy\\io\\matlab\\mio.py:226: MatReadWarning: Duplicate variable name \"None\" in stream - replacing previous with new\n",
      "Consider mio5.varmats_from_mat to split file into single variable files\n",
      "  matfile_dict = MR.get_variables(variable_names)\n",
      "c:\\users\\test\\anaconda3\\lib\\site-packages\\scipy\\io\\matlab\\mio.py:226: MatReadWarning: Duplicate variable name \"None\" in stream - replacing previous with new\n",
      "Consider mio5.varmats_from_mat to split file into single variable files\n",
      "  matfile_dict = MR.get_variables(variable_names)\n",
      "c:\\users\\test\\anaconda3\\lib\\site-packages\\scipy\\io\\matlab\\mio.py:226: MatReadWarning: Duplicate variable name \"None\" in stream - replacing previous with new\n",
      "Consider mio5.varmats_from_mat to split file into single variable files\n",
      "  matfile_dict = MR.get_variables(variable_names)\n",
      "c:\\users\\test\\anaconda3\\lib\\site-packages\\scipy\\io\\matlab\\mio.py:226: MatReadWarning: Duplicate variable name \"None\" in stream - replacing previous with new\n",
      "Consider mio5.varmats_from_mat to split file into single variable files\n",
      "  matfile_dict = MR.get_variables(variable_names)\n",
      "c:\\users\\test\\anaconda3\\lib\\site-packages\\scipy\\io\\matlab\\mio.py:226: MatReadWarning: Duplicate variable name \"None\" in stream - replacing previous with new\n",
      "Consider mio5.varmats_from_mat to split file into single variable files\n",
      "  matfile_dict = MR.get_variables(variable_names)\n"
     ]
    },
    {
     "name": "stdout",
     "output_type": "stream",
     "text": [
      "0.5525297286226319 0.2929055418191242\n"
     ]
    }
   ],
   "source": [
    "#kf = KFold(n_splits=18, shuffle=True)\n",
    "kf = KFold(n_splits=5)\n",
    "for roi in ROIS:\n",
    "    temp1 = []\n",
    "    temp2 = []\n",
    "    for eachsub in subjects:\n",
    "        fmri =  get_subject_data(eachsub)\n",
    "        d, c = train(fmri[roi],img_feat)\n",
    "        #print(np.round(d,3), np.round(c,3))\n",
    "        temp1.append(d)\n",
    "        temp2.append(c)\n",
    "    print(np.mean(temp1), np.mean(temp2))"
   ]
  },
  {
   "cell_type": "code",
   "execution_count": null,
   "metadata": {},
   "outputs": [],
   "source": []
  }
 ],
 "metadata": {
  "kernelspec": {
   "display_name": "Python 3",
   "language": "python",
   "name": "python3"
  },
  "language_info": {
   "codemirror_mode": {
    "name": "ipython",
    "version": 3
   },
   "file_extension": ".py",
   "mimetype": "text/x-python",
   "name": "python",
   "nbconvert_exporter": "python",
   "pygments_lexer": "ipython3",
   "version": "3.8.5"
  }
 },
 "nbformat": 4,
 "nbformat_minor": 5
}
