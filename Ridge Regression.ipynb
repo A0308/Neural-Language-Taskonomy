{
 "cells": [
  {
   "cell_type": "code",
   "execution_count": 65,
   "metadata": {},
   "outputs": [],
   "source": [
    "import numpy as np\n",
    "from scipy.io import loadmat\n",
    "from sklearn.model_selection import KFold, RepeatedKFold\n",
    "from sklearn.model_selection import train_test_split\n",
    "from sklearn.linear_model import Ridge, RidgeCV, Lasso\n",
    "from sklearn.neural_network import MLPRegressor\n",
    "from scipy.stats import pearsonr, sem\n",
    "from scipy import spatial\n",
    "from sklearn.metrics import mean_squared_error, r2_score"
   ]
  },
  {
   "cell_type": "code",
   "execution_count": 66,
   "metadata": {},
   "outputs": [],
   "source": [
    "def pairwise_accuracy(actual, predicted):\n",
    "    true = 0\n",
    "    total = 0\n",
    "    for i in range(0,len(actual)):\n",
    "#         print(i)\n",
    "        for j in range(i+1, len(actual)):\n",
    "            total += 1\n",
    "\n",
    "            s1 = actual[i]\n",
    "            s2 = actual[j]\n",
    "            b1 = predicted[i]\n",
    "            b2 = predicted[j]\n",
    "\n",
    "            result1 = spatial.distance.cosine(s1, b1)\n",
    "            result2 = spatial.distance.cosine(s2, b2)\n",
    "            result3 = spatial.distance.cosine(s1, b2)\n",
    "            result4 = spatial.distance.cosine(s2, b1)\n",
    "\n",
    "            if(result1 + result2 < result3 + result4):\n",
    "                true += 1\n",
    "\n",
    "    return(true/total)"
   ]
  },
  {
   "cell_type": "code",
   "execution_count": 67,
   "metadata": {},
   "outputs": [],
   "source": [
    "def pearcorr(actual, predicted):\n",
    "    corr = []\n",
    "    for i in range(0, len(actual)):\n",
    "        corr.append(np.corrcoef(actual[i],predicted[i])[0][1])\n",
    "    return np.mean(corr)"
   ]
  },
  {
   "cell_type": "code",
   "execution_count": 69,
   "metadata": {},
   "outputs": [],
   "source": [
    "kf = RepeatedKFold(n_splits=10, n_repeats=3, random_state=1)"
   ]
  },
  {
   "cell_type": "code",
   "execution_count": 70,
   "metadata": {},
   "outputs": [],
   "source": [
    "def train(vectors, voxels):\n",
    "    \n",
    "    dataset_X = np.array(voxels.copy())\n",
    "    \n",
    "    dataset_Y = np.array(vectors.copy())\n",
    "\n",
    "#     accuracies = []\n",
    "#     accuracies01 = []\n",
    "    \n",
    "    actual = []\n",
    "    predicted = []\n",
    "    pairwise_2v2 = []\n",
    "    final_corr = []\n",
    "    mse = []\n",
    "    r2 = []\n",
    "    #rdm_feat = []\n",
    "\n",
    "    cnt = 0\n",
    "    for train_index, test_index in kf.split(dataset_X):\n",
    "\n",
    "        X_train, X_test = dataset_X[train_index], dataset_X[test_index]\n",
    "        y_train, y_test = dataset_Y[train_index], dataset_Y[test_index]\n",
    "           \n",
    "        model = Ridge(alpha=1.0)\n",
    "        model.fit(X_train,y_train)\n",
    "        \n",
    "        \n",
    "\n",
    "        y_pred = model.predict(X_test)\n",
    "        \n",
    "        pairwise_2v2.append(pairwise_accuracy(y_test,y_pred))\n",
    "        final_corr.append(pearcorr(y_test,y_pred))\n",
    "        cnt += 1\n",
    "    return np.mean(pairwise_2v2), np.mean(final_corr)"
   ]
  },
  {
   "cell_type": "code",
   "execution_count": 87,
   "metadata": {},
   "outputs": [],
   "source": [
    "data = np.load('pieman_data_nli.npy',allow_pickle=True)\n",
    "data = data.item()"
   ]
  },
  {
   "cell_type": "code",
   "execution_count": 89,
   "metadata": {},
   "outputs": [],
   "source": [
    "ROIS = ['eac_L', 'eac_R', 'aac_L', 'aac_R', 'pmc_L', 'pmc_R', 'tpoj_L', 'tpoj_R', 'LAN_L', 'LAN_R']"
   ]
  },
  {
   "cell_type": "code",
   "execution_count": 53,
   "metadata": {
    "scrolled": false
   },
   "outputs": [
    {
     "name": "stdout",
     "output_type": "stream",
     "text": [
      "(82, 259, 3115)\n",
      "vis_L\n",
      "\n",
      "0.808731707317073 0.15658536585365854\n",
      "(82, 259, 3091)\n",
      "vis_R\n",
      "\n",
      "0.8034878048780487 0.1568658536585366\n"
     ]
    }
   ],
   "source": [
    "for roi in ROIS:\n",
    "    # data_voxels = loadmat('datafile.mat')\n",
    "    data_voxels = np.load('../../afni-nosmooth/pieman_'+roi+'_avg.npy')\n",
    "    data_voxels = data_voxels[:,data['non_empty_tr_indices'],:]\n",
    "    print(data_voxels.shape)\n",
    "    print(roi)\n",
    "    print()\n",
    "    output = {}\n",
    "    output['2v2'] = {}\n",
    "    output['pear'] = {}\n",
    "    output['2v2'] = []\n",
    "    output['pear'] = []\n",
    "    for i in np.arange(82):\n",
    "        roi_fmri = data_voxels[i]\n",
    "        d,c = train(roi_fmri,data['tr_features'])\n",
    "        #print(np.round(d,3),np.round(c,3), np.round(m,3), np.round(r2,3))\n",
    "        output['2v2'].append(np.round(d,3))\n",
    "        output['pear'].append(np.round(c,3))\n",
    "    print(np.mean(output['2v2']), np.mean(output['pear']))\n",
    "    fn = './'+roi+'_srl_ridge.npy'\n",
    "    np.save(fn,output)"
   ]
  },
  {
   "cell_type": "code",
   "execution_count": 74,
   "metadata": {},
   "outputs": [
    {
     "name": "stdout",
     "output_type": "stream",
     "text": [
      "(82, 259, 1061)\n",
      "LAN_L\n",
      "\n",
      "0.8274024390243901 0.17547560975609758\n",
      "(82, 259, 875)\n",
      "LAN_R\n",
      "\n",
      "0.8154146341463415 0.1648048780487805\n"
     ]
    }
   ],
   "source": [
    "for roi in ROIS:\n",
    "    # data_voxels = loadmat('datafile.mat')\n",
    "    data_voxels = np.load('../../afni-nosmooth/pieman_'+roi+'_avg.npy')\n",
    "    data_voxels = data_voxels[:,data['non_empty_tr_indices'],:]\n",
    "    print(data_voxels.shape)\n",
    "    print(roi)\n",
    "    print()\n",
    "    output = {}\n",
    "    output['2v2'] = {}\n",
    "    output['pear'] = {}\n",
    "    output['2v2'] = []\n",
    "    output['pear'] = []\n",
    "    for i in np.arange(82):\n",
    "        roi_fmri = data_voxels[i]\n",
    "        d,c = train(roi_fmri,data['tr_features'])\n",
    "        #print(np.round(d,3),np.round(c,3), np.round(m,3), np.round(r2,3))\n",
    "        output['2v2'].append(np.round(d,3))\n",
    "        output['pear'].append(np.round(c,3))\n",
    "    print(np.mean(output['2v2']), np.mean(output['pear']))\n",
    "    fn = './'+roi+'_paraphrase_ridge.npy'\n",
    "    np.save(fn,output)"
   ]
  },
  {
   "cell_type": "code",
   "execution_count": 90,
   "metadata": {},
   "outputs": [
    {
     "name": "stdout",
     "output_type": "stream",
     "text": [
      "(82, 259, 808)\n",
      "eac_L\n",
      "\n",
      "0.6254878048780487 0.03958536585365854\n",
      "(82, 259, 638)\n",
      "eac_R\n",
      "\n",
      "0.6255243902439024 0.044280487804878046\n",
      "(82, 259, 1420)\n",
      "aac_L\n",
      "\n",
      "0.7432560975609757 0.0959390243902439\n",
      "(82, 259, 1493)\n",
      "aac_R\n",
      "\n",
      "0.7508048780487805 0.10118292682926827\n",
      "(82, 259, 1198)\n",
      "pmc_L\n",
      "\n",
      "0.818292682926829 0.20891463414634143\n",
      "(82, 259, 1204)\n",
      "pmc_R\n",
      "\n",
      "0.8221341463414633 0.21559756097560978\n",
      "(82, 259, 847)\n",
      "tpoj_L\n",
      "\n",
      "0.7905121951219513 0.16051219512195122\n",
      "(82, 259, 1188)\n",
      "tpoj_R\n",
      "\n",
      "0.7959634146341464 0.1571219512195122\n",
      "(82, 259, 1061)\n",
      "LAN_L\n",
      "\n",
      "0.8028902439024389 0.1591829268292683\n",
      "(82, 259, 875)\n",
      "LAN_R\n",
      "\n",
      "0.7910121951219512 0.15104878048780487\n"
     ]
    }
   ],
   "source": [
    "for roi in ROIS:\n",
    "    # data_voxels = loadmat('datafile.mat')\n",
    "    data_voxels = np.load('../../afni-nosmooth/pieman_'+roi+'_avg.npy')\n",
    "    data_voxels = data_voxels[:,data['non_empty_tr_indices'],:]\n",
    "    print(data_voxels.shape)\n",
    "    print(roi)\n",
    "    print()\n",
    "    output = {}\n",
    "    output['2v2'] = {}\n",
    "    output['pear'] = {}\n",
    "    output['2v2'] = []\n",
    "    output['pear'] = []\n",
    "    for i in np.arange(82):\n",
    "        roi_fmri = data_voxels[i]\n",
    "        d,c = train(roi_fmri,data['tr_features'])\n",
    "        #print(np.round(d,3),np.round(c,3), np.round(m,3), np.round(r2,3))\n",
    "        output['2v2'].append(np.round(d,3))\n",
    "        output['pear'].append(np.round(c,3))\n",
    "    print(np.mean(output['2v2']), np.mean(output['pear']))\n",
    "    fn = './'+roi+'_summary_dec_ridge.npy'\n",
    "    np.save(fn,output)"
   ]
  },
  {
   "cell_type": "code",
   "execution_count": 91,
   "metadata": {},
   "outputs": [],
   "source": [
    "methods = ['coreference', 'ner', 'nli', 'sa', 'shallosyntax', 'srl', 'paraphrase', 'summary', 'wsd', 'qa', 'el']\n",
    "ROIS = ['eac_L', 'eac_R', 'aac_L', 'aac_R', 'pmc_L', 'pmc_R', 'tpoj_L', 'tpoj_R', 'LAN_L', 'LAN_R','vis_L', 'vis_R']"
   ]
  },
  {
   "cell_type": "code",
   "execution_count": 92,
   "metadata": {},
   "outputs": [
    {
     "name": "stdout",
     "output_type": "stream",
     "text": [
      "(82,)\n",
      "(82,)\n",
      "(82,)\n",
      "(82,)\n",
      "(82,)\n",
      "(82,)\n",
      "(82,)\n",
      "(82,)\n",
      "(82,)\n",
      "(82,)\n",
      "(82,)\n",
      "(82,)\n"
     ]
    }
   ],
   "source": [
    "pcc = {}\n",
    "acc_2v2 = {}\n",
    "all_pcc = {}\n",
    "all_2v2 = {}\n",
    "for i in methods:\n",
    "    pcc[i] = []\n",
    "    acc_2v2[i] = []\n",
    "    all_pcc[i] = []\n",
    "    all_2v2[i] = []\n",
    "    for roi in ROIS:\n",
    "        #print(i, roi)\n",
    "        if (i in 'NER') & (roi in ['LAN_L', 'LAN_R']):\n",
    "            a=np.load(roi+'_ner_ridge.npy', allow_pickle=True)\n",
    "            a = a.item()\n",
    "        else:\n",
    "            a=np.load(roi+'_'+i+'_ridge.npy', allow_pickle=True)\n",
    "            a = a.item()\n",
    "        #print(a['pear'][0],a['pear'][12], a['pear'][13])\n",
    "        if i in 'summary_dec':\n",
    "            print(np.array(a['pear']).shape)\n",
    "        pcc[i].append(np.mean(a['pear']))\n",
    "        acc_2v2[i].append(np.mean(a['2v2']))\n",
    "        all_pcc[i].append(a['pear'])\n",
    "        all_2v2[i].append(a['2v2'])"
   ]
  },
  {
   "cell_type": "code",
   "execution_count": 11,
   "metadata": {},
   "outputs": [
    {
     "name": "stdout",
     "output_type": "stream",
     "text": [
      "coreference [0.037 0.042 0.077 0.077 0.153 0.159 0.122 0.12  0.112 0.103 0.121 0.121]\n",
      "ner [0.025 0.029 0.064 0.067 0.143 0.145 0.11  0.108 0.109 0.099 0.116 0.116]\n",
      "nli [0.05  0.055 0.104 0.108 0.219 0.224 0.168 0.166 0.16  0.15  0.173 0.174]\n",
      "sa [0.028 0.029 0.07  0.071 0.151 0.156 0.117 0.116 0.115 0.108 0.123 0.124]\n",
      "shallosyntax [0.012 0.014 0.035 0.034 0.084 0.088 0.066 0.061 0.061 0.055 0.067 0.068]\n",
      "srl [0.039 0.045 0.088 0.091 0.191 0.199 0.149 0.144 0.146 0.137 0.157 0.157]\n",
      "paraphrase_dec [0.071 0.07  0.131 0.14  0.248 0.27  0.208 0.21  0.203 0.181 0.184 0.186]\n",
      "summary_dec [0.065 0.066 0.124 0.134 0.235 0.253 0.194 0.19  0.189 0.173 0.17  0.17 ]\n",
      "wsd_dec [0.034 0.04  0.082 0.086 0.184 0.193 0.139 0.138 0.138 0.13  0.152 0.152]\n",
      "qa [0.029 0.036 0.071 0.07  0.149 0.154 0.118 0.115 0.113 0.106 0.119 0.12 ]\n",
      "el [0.028 0.029 0.065 0.065 0.142 0.147 0.107 0.109 0.104 0.098 0.114 0.115]\n"
     ]
    }
   ],
   "source": [
    "for i in methods:\n",
    "    print(i, np.round(pcc[i],3))"
   ]
  },
  {
   "cell_type": "code",
   "execution_count": 12,
   "metadata": {},
   "outputs": [
    {
     "name": "stdout",
     "output_type": "stream",
     "text": [
      "coreference [0.617 0.617 0.708 0.706 0.756 0.761 0.739 0.745 0.735 0.723 0.76  0.756]\n",
      "ner [0.587 0.591 0.678 0.688 0.744 0.743 0.723 0.727 0.73  0.717 0.749 0.746]\n",
      "nli [0.648 0.653 0.77  0.775 0.842 0.842 0.815 0.821 0.812 0.798 0.839 0.836]\n",
      "sa [0.594 0.592 0.69  0.695 0.753 0.757 0.732 0.738 0.741 0.73  0.76  0.757]\n",
      "shallosyntax [0.55  0.55  0.607 0.606 0.655 0.658 0.642 0.637 0.641 0.631 0.656 0.655]\n",
      "srl [0.621 0.625 0.725 0.73  0.801 0.806 0.779 0.779 0.786 0.774 0.809 0.803]\n",
      "paraphrase_dec [0.68  0.677 0.81  0.823 0.878 0.888 0.86  0.875 0.873 0.837 0.846 0.842]\n",
      "summary_dec [0.666 0.67  0.793 0.808 0.86  0.868 0.839 0.848 0.852 0.824 0.824 0.818]\n",
      "wsd_dec [0.613 0.617 0.726 0.735 0.803 0.811 0.773 0.781 0.783 0.774 0.81  0.805]\n",
      "qa [0.603 0.612 0.699 0.697 0.759 0.762 0.741 0.744 0.741 0.733 0.757 0.755]\n",
      "el [0.594 0.59  0.683 0.689 0.748 0.749 0.722 0.732 0.727 0.719 0.752 0.75 ]\n"
     ]
    }
   ],
   "source": [
    "for i in methods:\n",
    "    print(i, np.round(acc_2v2[i],3))"
   ]
  },
  {
   "cell_type": "code",
   "execution_count": null,
   "metadata": {},
   "outputs": [],
   "source": []
  }
 ],
 "metadata": {
  "kernelspec": {
   "display_name": "Python 3",
   "language": "python",
   "name": "python3"
  },
  "language_info": {
   "codemirror_mode": {
    "name": "ipython",
    "version": 3
   },
   "file_extension": ".py",
   "mimetype": "text/x-python",
   "name": "python",
   "nbconvert_exporter": "python",
   "pygments_lexer": "ipython3",
   "version": "3.8.5"
  }
 },
 "nbformat": 4,
 "nbformat_minor": 5
}
